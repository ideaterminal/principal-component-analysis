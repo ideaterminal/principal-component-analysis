{
 "cells": [
  {
   "cell_type": "code",
   "execution_count": 1,
   "metadata": {
    "collapsed": false
   },
   "outputs": [],
   "source": [
    "from PIL import Image\n",
    "import numpy\n",
    "import os\n",
    "import re\n",
    "from resizeimage import resizeimage"
   ]
  },
  {
   "cell_type": "code",
   "execution_count": 2,
   "metadata": {
    "collapsed": false
   },
   "outputs": [],
   "source": [
    "# resize images\n",
    "# resizeImages('../data/yalefaces/', 'subject01')\n",
    "def resizeImages(path, prefix):    \n",
    "    for root, dirs, files in os.walk(path):\n",
    "        for name in files:\n",
    "            if re.match(r'^'+prefix+'.*gif$', name, re.I):\n",
    "                img = Image.open(path + name)\n",
    "                resizedImg = resizeimage.resize_height(img, 50)\n",
    "                resizedImg.save('yalefaces_resized/'+name)\n",
    "\n",
    "# images into array: http://stackoverflow.com/questions/13550376/pil-image-to-array-numpy-array-to-array-python\n",
    "def readImagesIntoMatrix(path, prefix):\n",
    "    images = None\n",
    "    for root, dirs, files in os.walk(path):\n",
    "        for name in files:\n",
    "            if re.match(r'^'+prefix+'.*gif$', name, re.I):\n",
    "                img = Image.open(path + name)\n",
    "                (width, height) = img.size\n",
    "                imgArr = numpy.asarray(img).reshape(height * width)\n",
    "                if images is not None:\n",
    "                    images = numpy.vstack([images, imgArr])\n",
    "                else:\n",
    "                    images = imgArr\n",
    "    return images"
   ]
  },
  {
   "cell_type": "code",
   "execution_count": 3,
   "metadata": {
    "collapsed": false,
    "scrolled": true
   },
   "outputs": [],
   "source": [
    "resizeImages('yalefaces/', 'subject.*')\n",
    "imageList = readImagesIntoMatrix('yalefaces_resized/', 'subject.*happy').T\n",
    "\n",
    "Image.fromarray(numpy.uint8(imageList.T[0].reshape(50,66))).save(\"test/testsaveimage1.gif\")\n"
   ]
  },
  {
   "cell_type": "code",
   "execution_count": 4,
   "metadata": {
    "collapsed": false
   },
   "outputs": [],
   "source": [
    "(width, height) = 66, 50\n",
    "# average Image\n",
    "avgImg =  numpy.mean(imageList, axis=1)\n",
    "Image.fromarray(numpy.uint8(avgImg.reshape(50,66))).save('test/avgImg.gif')"
   ]
  },
  {
   "cell_type": "code",
   "execution_count": null,
   "metadata": {
    "collapsed": false
   },
   "outputs": [],
   "source": [
    "# Subtract mean from each column (which are rows of transpose, how numpy does it)\n",
    "imagesDiff = (imageList.T - avgImg).T\n",
    "\n",
    "# Get EigenVectors\n",
    "covMatrix = numpy.cov(imagesDiff, rowvar=True)\n",
    "eigenVal, eigenVec = numpy.linalg.eigh(covMatrix)\n",
    "\n",
    "# Sort eigenvectors\n",
    "# http://stackoverflow.com/questions/8092920/sort-eigenvalues-and-associated-eigenvectors-after-using-numpy-linalg-eig-in-pyt\n",
    "idx = eigenVal.argsort()[::-1]\n",
    "eigenVal = eigenVal[idx]\n",
    "eigenVec = eigenVec[:,idx]"
   ]
  },
  {
   "cell_type": "code",
   "execution_count": null,
   "metadata": {
    "collapsed": false
   },
   "outputs": [],
   "source": [
    "# Testing the eigenvectors\n",
    "# Taken from http://sebastianraschka.com/Articles/2014_pca_step_by_step.html\n",
    "for i in range(len(eigenVal)):\n",
    "    eigv = eigenVec[:,i].reshape(1,3300).T\n",
    "    numpy.testing.assert_array_almost_equal(covMatrix.dot(eigv), eigenVal[i] * eigv,\n",
    "                                         decimal=6, err_msg='', verbose=True)\n",
    "\n",
    "# Also lets assert the eigenvectors are orthogonal\n",
    "for i in range(len(eigenVal)):\n",
    "    for j in range(len(eigenVal)):\n",
    "        if i < j:\n",
    "            break # Comment this out if you want to run this silly test\n",
    "            # Commented out because if you run this it takes FOREVER.\n",
    "            # numpy.testing.assert_almost_equal(0, eigenVec[i].T.dot(eigenVec[j]))"
   ]
  },
  {
   "cell_type": "code",
   "execution_count": null,
   "metadata": {
    "collapsed": false
   },
   "outputs": [],
   "source": [
    "def normalize_face(vector):\n",
    "    minValue = numpy.amin(vector)\n",
    "    maxValue = numpy.amax(vector)\n",
    "    scale = (255./(maxValue-minValue))\n",
    "    return (vector - minValue)*scale\n",
    "\n",
    "for i in range (1, 100):\n",
    "    eigv = eigenVec[:,i].reshape(1,3300).T\n",
    "    eigenface = normalize_face(eigv)\n",
    "    Image.fromarray(numpy.uint8(eigenface.reshape(50,66))).save('test/happy_eigenface%s.gif' % i)\n",
    "\n"
   ]
  },
  {
   "cell_type": "code",
   "execution_count": null,
   "metadata": {
    "collapsed": false
   },
   "outputs": [],
   "source": [
    "def top_k_eigenface(image, eigenVectors, k):\n",
    "    start_vector = numpy.zeros((50*66))\n",
    "    for i in range(0, k-1):\n",
    "        eigv = eigenVec[:,i].reshape(3300)\n",
    "        weight = numpy.inner(image, eigv)\n",
    "        start_vector = start_vector + weight * eigv\n",
    "    return start_vector\n",
    "\n",
    "for i in range(0, len(imagesDiff.T)):\n",
    "    projection = top_k_eigenface(imagesDiff.T[i].reshape(3300), eigv, 13)+avgImg\n",
    "    print ('Projection dimensions %s' % (projection.shape,))\n",
    "    Image.fromarray(numpy.uint8(projection.reshape(50,66))).save('test/happy_13_projection_of_subject%s.gif' % i)\n",
    "    projection = top_k_eigenface(imagesDiff.T[i].reshape(3300), eigv, 3300)+avgImg\n",
    "    Image.fromarray(numpy.uint8(projection.reshape(50,66))).save('test/happy_3300_projection_of_subject%s.gif' % i)"
   ]
  },
  {
   "cell_type": "code",
   "execution_count": null,
   "metadata": {
    "collapsed": true
   },
   "outputs": [],
   "source": []
  }
 ],
 "metadata": {
  "kernelspec": {
   "display_name": "Python 3",
   "language": "python",
   "name": "python3"
  },
  "language_info": {
   "codemirror_mode": {
    "name": "ipython",
    "version": 3
   },
   "file_extension": ".py",
   "mimetype": "text/x-python",
   "name": "python",
   "nbconvert_exporter": "python",
   "pygments_lexer": "ipython3",
   "version": "3.6.0"
  }
 },
 "nbformat": 4,
 "nbformat_minor": 0
}
